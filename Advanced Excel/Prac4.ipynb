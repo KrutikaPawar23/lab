{
 "cells": [
  {
   "cell_type": "code",
   "execution_count": 1,
   "id": "aaa8bee9",
   "metadata": {},
   "outputs": [],
   "source": [
    "import numpy as np\n",
    "import pandas as pd\n",
    "import seaborn as sns\n",
    "import matplotlib.pyplot as plt"
   ]
  },
  {
   "cell_type": "code",
   "execution_count": 2,
   "id": "46619ab8",
   "metadata": {},
   "outputs": [
    {
     "name": "stdout",
     "output_type": "stream",
     "text": [
      "Sales Data\n",
      "   OrderID  CustomerID     Product  Quantity    Price  OrderDate Region  \\\n",
      "0        1         413    Keyboard         5  1815.96 2023-01-01  South   \n",
      "1        2         500  Smartphone         6  1497.86 2023-01-02  South   \n",
      "2        3         925  Smartphone         1   465.75 2023-01-03  North   \n",
      "3        4          55     Monitor         3  1896.86 2023-01-04   East   \n",
      "4        5         502  Smartphone         5  1725.11 2023-01-05  South   \n",
      "\n",
      "   TotalRevenue  \n",
      "0       9079.80  \n",
      "1       8987.16  \n",
      "2        465.75  \n",
      "3       5690.58  \n",
      "4       8625.55  \n",
      "\n",
      "Customer Data\n",
      "   CustomerID CustomerName Region\n",
      "0           1   Customer_1   West\n",
      "1           2   Customer_2  South\n",
      "2           3   Customer_3   West\n",
      "3           4   Customer_4   East\n",
      "4           5   Customer_5   West\n",
      "\n",
      "Product Data\n",
      "      Product  Price\n",
      "0      Laptop   1500\n",
      "1      Tablet    500\n",
      "2  Smartphone   1200\n",
      "3     Monitor    300\n",
      "4    Keyboard     50\n"
     ]
    }
   ],
   "source": [
    "data_excel = \"sales_data.xlsx\"\n",
    "\n",
    "sales_df = pd.read_excel(data_excel,sheet_name=\"Sales\")\n",
    "Customer_df = pd.read_excel(data_excel,sheet_name=\"Customers\")\n",
    "Product_df = pd.read_excel(data_excel,sheet_name=\"Products\")\n",
    "\n",
    "print(\"Sales Data\")\n",
    "print(sales_df.head())\n",
    "print(\"\\nCustomer Data\")\n",
    "print(Customer_df.head())\n",
    "print(\"\\nProduct Data\")\n",
    "print(Product_df.head())"
   ]
  },
  {
   "cell_type": "code",
   "execution_count": 3,
   "id": "71b15baf",
   "metadata": {},
   "outputs": [
    {
     "data": {
      "text/plain": [
       "OrderID         0\n",
       "CustomerID      0\n",
       "Product         0\n",
       "Quantity        0\n",
       "Price           0\n",
       "OrderDate       0\n",
       "Region          0\n",
       "TotalRevenue    0\n",
       "dtype: int64"
      ]
     },
     "execution_count": 3,
     "metadata": {},
     "output_type": "execute_result"
    }
   ],
   "source": [
    "sales_df.isnull().sum()"
   ]
  },
  {
   "cell_type": "code",
   "execution_count": 4,
   "id": "000ff6ee",
   "metadata": {},
   "outputs": [
    {
     "name": "stderr",
     "output_type": "stream",
     "text": [
      "C:\\Users\\ninad\\AppData\\Local\\Temp\\ipykernel_19408\\259148693.py:2: FutureWarning: A value is trying to be set on a copy of a DataFrame or Series through chained assignment using an inplace method.\n",
      "The behavior will change in pandas 3.0. This inplace method will never work because the intermediate object on which we are setting values always behaves as a copy.\n",
      "\n",
      "For example, when doing 'df[col].method(value, inplace=True)', try using 'df.method({col: value}, inplace=True)' or df[col] = df[col].method(value) instead, to perform the operation inplace on the original object.\n",
      "\n",
      "\n",
      "  sales_df[\"Quantity\"].fillna(0,inplace=True)\n"
     ]
    }
   ],
   "source": [
    "sales_df.dropna(inplace=True)\n",
    "sales_df[\"Quantity\"].fillna(0,inplace=True)\n",
    "sales_df[\"OrderDate\"] = pd.to_datetime(sales_df[\"OrderDate\"])"
   ]
  },
  {
   "cell_type": "code",
   "execution_count": 5,
   "id": "19e06303",
   "metadata": {},
   "outputs": [],
   "source": [
    "sales_df = pd.merge(sales_df,Customer_df,on=\"CustomerID\",how=\"left\")"
   ]
  },
  {
   "cell_type": "code",
   "execution_count": 6,
   "id": "8eb56b24",
   "metadata": {},
   "outputs": [
    {
     "data": {
      "text/html": [
       "<div>\n",
       "<style scoped>\n",
       "    .dataframe tbody tr th:only-of-type {\n",
       "        vertical-align: middle;\n",
       "    }\n",
       "\n",
       "    .dataframe tbody tr th {\n",
       "        vertical-align: top;\n",
       "    }\n",
       "\n",
       "    .dataframe thead th {\n",
       "        text-align: right;\n",
       "    }\n",
       "</style>\n",
       "<table border=\"1\" class=\"dataframe\">\n",
       "  <thead>\n",
       "    <tr style=\"text-align: right;\">\n",
       "      <th></th>\n",
       "      <th>OrderID</th>\n",
       "      <th>CustomerID</th>\n",
       "      <th>Product</th>\n",
       "      <th>Quantity</th>\n",
       "      <th>Price</th>\n",
       "      <th>OrderDate</th>\n",
       "      <th>Region_x</th>\n",
       "      <th>TotalRevenue</th>\n",
       "      <th>CustomerName</th>\n",
       "      <th>Region_y</th>\n",
       "    </tr>\n",
       "  </thead>\n",
       "  <tbody>\n",
       "    <tr>\n",
       "      <th>0</th>\n",
       "      <td>1</td>\n",
       "      <td>413</td>\n",
       "      <td>Keyboard</td>\n",
       "      <td>5</td>\n",
       "      <td>1815.96</td>\n",
       "      <td>2023-01-01</td>\n",
       "      <td>South</td>\n",
       "      <td>9079.80</td>\n",
       "      <td>Customer_413</td>\n",
       "      <td>South</td>\n",
       "    </tr>\n",
       "    <tr>\n",
       "      <th>1</th>\n",
       "      <td>2</td>\n",
       "      <td>500</td>\n",
       "      <td>Smartphone</td>\n",
       "      <td>6</td>\n",
       "      <td>1497.86</td>\n",
       "      <td>2023-01-02</td>\n",
       "      <td>South</td>\n",
       "      <td>8987.16</td>\n",
       "      <td>Customer_500</td>\n",
       "      <td>North</td>\n",
       "    </tr>\n",
       "    <tr>\n",
       "      <th>2</th>\n",
       "      <td>3</td>\n",
       "      <td>925</td>\n",
       "      <td>Smartphone</td>\n",
       "      <td>1</td>\n",
       "      <td>465.75</td>\n",
       "      <td>2023-01-03</td>\n",
       "      <td>North</td>\n",
       "      <td>465.75</td>\n",
       "      <td>Customer_925</td>\n",
       "      <td>South</td>\n",
       "    </tr>\n",
       "    <tr>\n",
       "      <th>3</th>\n",
       "      <td>4</td>\n",
       "      <td>55</td>\n",
       "      <td>Monitor</td>\n",
       "      <td>3</td>\n",
       "      <td>1896.86</td>\n",
       "      <td>2023-01-04</td>\n",
       "      <td>East</td>\n",
       "      <td>5690.58</td>\n",
       "      <td>Customer_55</td>\n",
       "      <td>South</td>\n",
       "    </tr>\n",
       "    <tr>\n",
       "      <th>4</th>\n",
       "      <td>5</td>\n",
       "      <td>502</td>\n",
       "      <td>Smartphone</td>\n",
       "      <td>5</td>\n",
       "      <td>1725.11</td>\n",
       "      <td>2023-01-05</td>\n",
       "      <td>South</td>\n",
       "      <td>8625.55</td>\n",
       "      <td>Customer_502</td>\n",
       "      <td>West</td>\n",
       "    </tr>\n",
       "  </tbody>\n",
       "</table>\n",
       "</div>"
      ],
      "text/plain": [
       "   OrderID  CustomerID     Product  Quantity    Price  OrderDate Region_x  \\\n",
       "0        1         413    Keyboard         5  1815.96 2023-01-01    South   \n",
       "1        2         500  Smartphone         6  1497.86 2023-01-02    South   \n",
       "2        3         925  Smartphone         1   465.75 2023-01-03    North   \n",
       "3        4          55     Monitor         3  1896.86 2023-01-04     East   \n",
       "4        5         502  Smartphone         5  1725.11 2023-01-05    South   \n",
       "\n",
       "   TotalRevenue  CustomerName Region_y  \n",
       "0       9079.80  Customer_413    South  \n",
       "1       8987.16  Customer_500    North  \n",
       "2        465.75  Customer_925    South  \n",
       "3       5690.58   Customer_55    South  \n",
       "4       8625.55  Customer_502     West  "
      ]
     },
     "execution_count": 6,
     "metadata": {},
     "output_type": "execute_result"
    }
   ],
   "source": [
    "sales_df.head()"
   ]
  },
  {
   "cell_type": "code",
   "execution_count": 7,
   "id": "8ddb25d2",
   "metadata": {},
   "outputs": [],
   "source": [
    "sales_df = pd.merge(sales_df,Product_df,on=\"Product\",how=\"left\")"
   ]
  },
  {
   "cell_type": "code",
   "execution_count": 8,
   "id": "ec798d2d",
   "metadata": {},
   "outputs": [
    {
     "data": {
      "text/html": [
       "<div>\n",
       "<style scoped>\n",
       "    .dataframe tbody tr th:only-of-type {\n",
       "        vertical-align: middle;\n",
       "    }\n",
       "\n",
       "    .dataframe tbody tr th {\n",
       "        vertical-align: top;\n",
       "    }\n",
       "\n",
       "    .dataframe thead th {\n",
       "        text-align: right;\n",
       "    }\n",
       "</style>\n",
       "<table border=\"1\" class=\"dataframe\">\n",
       "  <thead>\n",
       "    <tr style=\"text-align: right;\">\n",
       "      <th></th>\n",
       "      <th>OrderID</th>\n",
       "      <th>CustomerID</th>\n",
       "      <th>Product</th>\n",
       "      <th>Quantity</th>\n",
       "      <th>Price_x</th>\n",
       "      <th>OrderDate</th>\n",
       "      <th>Region_x</th>\n",
       "      <th>TotalRevenue</th>\n",
       "      <th>CustomerName</th>\n",
       "      <th>Region_y</th>\n",
       "      <th>Price_y</th>\n",
       "    </tr>\n",
       "  </thead>\n",
       "  <tbody>\n",
       "    <tr>\n",
       "      <th>0</th>\n",
       "      <td>1</td>\n",
       "      <td>413</td>\n",
       "      <td>Keyboard</td>\n",
       "      <td>5</td>\n",
       "      <td>1815.96</td>\n",
       "      <td>2023-01-01</td>\n",
       "      <td>South</td>\n",
       "      <td>9079.80</td>\n",
       "      <td>Customer_413</td>\n",
       "      <td>South</td>\n",
       "      <td>50</td>\n",
       "    </tr>\n",
       "    <tr>\n",
       "      <th>1</th>\n",
       "      <td>2</td>\n",
       "      <td>500</td>\n",
       "      <td>Smartphone</td>\n",
       "      <td>6</td>\n",
       "      <td>1497.86</td>\n",
       "      <td>2023-01-02</td>\n",
       "      <td>South</td>\n",
       "      <td>8987.16</td>\n",
       "      <td>Customer_500</td>\n",
       "      <td>North</td>\n",
       "      <td>1200</td>\n",
       "    </tr>\n",
       "    <tr>\n",
       "      <th>2</th>\n",
       "      <td>3</td>\n",
       "      <td>925</td>\n",
       "      <td>Smartphone</td>\n",
       "      <td>1</td>\n",
       "      <td>465.75</td>\n",
       "      <td>2023-01-03</td>\n",
       "      <td>North</td>\n",
       "      <td>465.75</td>\n",
       "      <td>Customer_925</td>\n",
       "      <td>South</td>\n",
       "      <td>1200</td>\n",
       "    </tr>\n",
       "    <tr>\n",
       "      <th>3</th>\n",
       "      <td>4</td>\n",
       "      <td>55</td>\n",
       "      <td>Monitor</td>\n",
       "      <td>3</td>\n",
       "      <td>1896.86</td>\n",
       "      <td>2023-01-04</td>\n",
       "      <td>East</td>\n",
       "      <td>5690.58</td>\n",
       "      <td>Customer_55</td>\n",
       "      <td>South</td>\n",
       "      <td>300</td>\n",
       "    </tr>\n",
       "    <tr>\n",
       "      <th>4</th>\n",
       "      <td>5</td>\n",
       "      <td>502</td>\n",
       "      <td>Smartphone</td>\n",
       "      <td>5</td>\n",
       "      <td>1725.11</td>\n",
       "      <td>2023-01-05</td>\n",
       "      <td>South</td>\n",
       "      <td>8625.55</td>\n",
       "      <td>Customer_502</td>\n",
       "      <td>West</td>\n",
       "      <td>1200</td>\n",
       "    </tr>\n",
       "  </tbody>\n",
       "</table>\n",
       "</div>"
      ],
      "text/plain": [
       "   OrderID  CustomerID     Product  Quantity  Price_x  OrderDate Region_x  \\\n",
       "0        1         413    Keyboard         5  1815.96 2023-01-01    South   \n",
       "1        2         500  Smartphone         6  1497.86 2023-01-02    South   \n",
       "2        3         925  Smartphone         1   465.75 2023-01-03    North   \n",
       "3        4          55     Monitor         3  1896.86 2023-01-04     East   \n",
       "4        5         502  Smartphone         5  1725.11 2023-01-05    South   \n",
       "\n",
       "   TotalRevenue  CustomerName Region_y  Price_y  \n",
       "0       9079.80  Customer_413    South       50  \n",
       "1       8987.16  Customer_500    North     1200  \n",
       "2        465.75  Customer_925    South     1200  \n",
       "3       5690.58   Customer_55    South      300  \n",
       "4       8625.55  Customer_502     West     1200  "
      ]
     },
     "execution_count": 8,
     "metadata": {},
     "output_type": "execute_result"
    }
   ],
   "source": [
    "sales_df.head()"
   ]
  },
  {
   "cell_type": "code",
   "execution_count": 9,
   "id": "a34107d7",
   "metadata": {},
   "outputs": [],
   "source": [
    "sales_df[\"TotalRevenue\"] = sales_df[\"Quantity\"] * sales_df[\"Price_y\"]"
   ]
  },
  {
   "cell_type": "code",
   "execution_count": 10,
   "id": "97e17c18",
   "metadata": {},
   "outputs": [
    {
     "data": {
      "text/html": [
       "<div>\n",
       "<style scoped>\n",
       "    .dataframe tbody tr th:only-of-type {\n",
       "        vertical-align: middle;\n",
       "    }\n",
       "\n",
       "    .dataframe tbody tr th {\n",
       "        vertical-align: top;\n",
       "    }\n",
       "\n",
       "    .dataframe thead th {\n",
       "        text-align: right;\n",
       "    }\n",
       "</style>\n",
       "<table border=\"1\" class=\"dataframe\">\n",
       "  <thead>\n",
       "    <tr style=\"text-align: right;\">\n",
       "      <th></th>\n",
       "      <th>OrderID</th>\n",
       "      <th>CustomerID</th>\n",
       "      <th>Product</th>\n",
       "      <th>Quantity</th>\n",
       "      <th>Price_x</th>\n",
       "      <th>OrderDate</th>\n",
       "      <th>Region_x</th>\n",
       "      <th>TotalRevenue</th>\n",
       "      <th>CustomerName</th>\n",
       "      <th>Region_y</th>\n",
       "      <th>Price_y</th>\n",
       "    </tr>\n",
       "  </thead>\n",
       "  <tbody>\n",
       "    <tr>\n",
       "      <th>0</th>\n",
       "      <td>1</td>\n",
       "      <td>413</td>\n",
       "      <td>Keyboard</td>\n",
       "      <td>5</td>\n",
       "      <td>1815.96</td>\n",
       "      <td>2023-01-01</td>\n",
       "      <td>South</td>\n",
       "      <td>250</td>\n",
       "      <td>Customer_413</td>\n",
       "      <td>South</td>\n",
       "      <td>50</td>\n",
       "    </tr>\n",
       "    <tr>\n",
       "      <th>1</th>\n",
       "      <td>2</td>\n",
       "      <td>500</td>\n",
       "      <td>Smartphone</td>\n",
       "      <td>6</td>\n",
       "      <td>1497.86</td>\n",
       "      <td>2023-01-02</td>\n",
       "      <td>South</td>\n",
       "      <td>7200</td>\n",
       "      <td>Customer_500</td>\n",
       "      <td>North</td>\n",
       "      <td>1200</td>\n",
       "    </tr>\n",
       "    <tr>\n",
       "      <th>2</th>\n",
       "      <td>3</td>\n",
       "      <td>925</td>\n",
       "      <td>Smartphone</td>\n",
       "      <td>1</td>\n",
       "      <td>465.75</td>\n",
       "      <td>2023-01-03</td>\n",
       "      <td>North</td>\n",
       "      <td>1200</td>\n",
       "      <td>Customer_925</td>\n",
       "      <td>South</td>\n",
       "      <td>1200</td>\n",
       "    </tr>\n",
       "    <tr>\n",
       "      <th>3</th>\n",
       "      <td>4</td>\n",
       "      <td>55</td>\n",
       "      <td>Monitor</td>\n",
       "      <td>3</td>\n",
       "      <td>1896.86</td>\n",
       "      <td>2023-01-04</td>\n",
       "      <td>East</td>\n",
       "      <td>900</td>\n",
       "      <td>Customer_55</td>\n",
       "      <td>South</td>\n",
       "      <td>300</td>\n",
       "    </tr>\n",
       "    <tr>\n",
       "      <th>4</th>\n",
       "      <td>5</td>\n",
       "      <td>502</td>\n",
       "      <td>Smartphone</td>\n",
       "      <td>5</td>\n",
       "      <td>1725.11</td>\n",
       "      <td>2023-01-05</td>\n",
       "      <td>South</td>\n",
       "      <td>6000</td>\n",
       "      <td>Customer_502</td>\n",
       "      <td>West</td>\n",
       "      <td>1200</td>\n",
       "    </tr>\n",
       "  </tbody>\n",
       "</table>\n",
       "</div>"
      ],
      "text/plain": [
       "   OrderID  CustomerID     Product  Quantity  Price_x  OrderDate Region_x  \\\n",
       "0        1         413    Keyboard         5  1815.96 2023-01-01    South   \n",
       "1        2         500  Smartphone         6  1497.86 2023-01-02    South   \n",
       "2        3         925  Smartphone         1   465.75 2023-01-03    North   \n",
       "3        4          55     Monitor         3  1896.86 2023-01-04     East   \n",
       "4        5         502  Smartphone         5  1725.11 2023-01-05    South   \n",
       "\n",
       "   TotalRevenue  CustomerName Region_y  Price_y  \n",
       "0           250  Customer_413    South       50  \n",
       "1          7200  Customer_500    North     1200  \n",
       "2          1200  Customer_925    South     1200  \n",
       "3           900   Customer_55    South      300  \n",
       "4          6000  Customer_502     West     1200  "
      ]
     },
     "metadata": {},
     "output_type": "display_data"
    }
   ],
   "source": [
    "display(sales_df.head())"
   ]
  },
  {
   "cell_type": "code",
   "execution_count": 11,
   "id": "418e836e",
   "metadata": {},
   "outputs": [
    {
     "name": "stdout",
     "output_type": "stream",
     "text": [
      "Product   Keyboard   Laptop  Monitor  Smartphone   Tablet\n",
      "Region_y                                                 \n",
      "East        134350  3720000   729900     2844000  1281500\n",
      "North       121550  3567000   738000     3246000  1346000\n",
      "South       116150  3415500   710700     2946000  1164500\n",
      "West        129700  3732000   803100     3068400  1376500\n"
     ]
    }
   ],
   "source": [
    "# PIVOT TABLE\n",
    "pivot_table = pd.pivot_table(\n",
    "    sales_df,\n",
    "    values=\"TotalRevenue\",\n",
    "    index=\"Region_y\",\n",
    "    columns=\"Product\",\n",
    "    aggfunc=\"sum\",\n",
    "    fill_value=0\n",
    "    \n",
    ")\n",
    "print(pivot_table)"
   ]
  },
  {
   "cell_type": "code",
   "execution_count": 12,
   "id": "914cfab3",
   "metadata": {},
   "outputs": [
    {
     "data": {
      "text/plain": [
       "(10000, 11)"
      ]
     },
     "execution_count": 12,
     "metadata": {},
     "output_type": "execute_result"
    }
   ],
   "source": [
    "sales_df.shape"
   ]
  },
  {
   "cell_type": "code",
   "execution_count": 13,
   "id": "14a38e3e",
   "metadata": {},
   "outputs": [
    {
     "data": {
      "image/png": "[encoded data removed]",
      "text/plain": [
       "<Figure size 640x480 with 1 Axes>"
      ]
     },
     "metadata": {},
     "output_type": "display_data"
    }
   ],
   "source": [
    "#Bar Plot Using SUMIF\n",
    "plt.plot(figsize=(10,6))\n",
    "sns.barplot(data= sales_df,x=\"Product\",y=\"TotalRevenue\",estimator=sum,errorbar=None)\n",
    "plt.title(\"TR By Product\")\n",
    "plt.xlabel(\"Products\")\n",
    "plt.ylabel(\"Revenue\")\n",
    "plt.show()"
   ]
  },
  {
   "cell_type": "code",
   "execution_count": 14,
   "id": "901bcbf2",
   "metadata": {
    "scrolled": true
   },
   "outputs": [
    {
     "data": {
      "text/plain": [
       "<Axes: xlabel='Month', ylabel='TotalRevenue'>"
      ]
     },
     "execution_count": 14,
     "metadata": {},
     "output_type": "execute_result"
    },
    {
     "data": {
      "image/png": "[encoded data removed]",
      "text/plain": [
       "<Figure size 640x480 with 1 Axes>"
      ]
     },
     "metadata": {},
     "output_type": "display_data"
    }
   ],
   "source": [
    "# LINE PLOT\n",
    "sales_df[\"Month\"]= sales_df[\"OrderDate\"].dt.month_name()\n",
    "Monthly_sales = sales_df.groupby(\"Month\")[\"TotalRevenue\"].sum().reset_index()\n",
    "\n",
    "plt.plot(figsize=(16,8))\n",
    "sns.lineplot(data=Monthly_sales,x=\"Month\",y=\"TotalRevenue\",marker='o')"
   ]
  },
  {
   "cell_type": "code",
   "execution_count": 15,
   "id": "19902524",
   "metadata": {},
   "outputs": [],
   "source": [
    "with pd.ExcelWriter(\"Analysis.xlsx\",engine='openpyxl') as writer:\n",
    "    sales_df.to_excel(writer,sheet_name=\"Sales\",index=False)\n",
    "    pivot_table.to_excel(writer,sheet_name=\"Pivot\")"
   ]
  },
  {
   "cell_type": "code",
   "execution_count": null,
   "id": "736f7c0d-06c0-49db-b15d-11b125448cbe",
   "metadata": {},
   "outputs": [],
   "source": []
  }
 ],
 "metadata": {
  "kernelspec": {
   "display_name": "Python 3 (ipykernel)",
   "language": "python",
   "name": "python3"
  },
  "language_info": {
   "codemirror_mode": {
    "name": "ipython",
    "version": 3
   },
   "file_extension": ".py",
   "mimetype": "text/x-python",
   "name": "python",
   "nbconvert_exporter": "python",
   "pygments_lexer": "ipython3",
   "version": "3.12.3"
  }
 },
 "nbformat": 4,
 "nbformat_minor": 5
}
